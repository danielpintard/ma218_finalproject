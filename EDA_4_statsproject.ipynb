{
 "cells": [
  {
   "attachments": {},
   "cell_type": "markdown",
   "metadata": {},
   "source": [
    "# The proportion of nosocomial infections that are caused by Methicillin Resistant Staphylococcus Aureus "
   ]
  },
  {
   "attachments": {},
   "cell_type": "markdown",
   "metadata": {},
   "source": [
    "Importing numpy and pandas modules"
   ]
  },
  {
   "cell_type": "code",
   "execution_count": 87,
   "metadata": {},
   "outputs": [],
   "source": [
    "import pandas as pd\n",
    "import numpy as np\n",
    "from statsmodels.stats.proportion import proportions_ztest\n",
    "import matplotlib.pyplot as plt \n"
   ]
  },
  {
   "attachments": {},
   "cell_type": "markdown",
   "metadata": {},
   "source": [
    "# Exploratory Data Analysis"
   ]
  },
  {
   "attachments": {},
   "cell_type": "markdown",
   "metadata": {},
   "source": [
    "Getting an idea of the dataset's size, values etc. "
   ]
  },
  {
   "cell_type": "code",
   "execution_count": 57,
   "metadata": {},
   "outputs": [
    {
     "name": "stdout",
     "output_type": "stream",
     "text": [
      "df.shape: (174420, 15)\n",
      "df.index: RangeIndex(start=0, stop=174420, step=1)\n",
      "df.values: [['010001' 'SOUTHEAST HEALTH MEDICAL CENTER' '1108 ROSS CLARK CIRCLE' ...\n",
      "  nan '07/01/2021' '06/30/2022']\n",
      " ['010001' 'SOUTHEAST HEALTH MEDICAL CENTER' '1108 ROSS CLARK CIRCLE' ...\n",
      "  nan '07/01/2021' '06/30/2022']\n",
      " ['010001' 'SOUTHEAST HEALTH MEDICAL CENTER' '1108 ROSS CLARK CIRCLE' ...\n",
      "  nan '07/01/2021' '06/30/2022']\n",
      " ...\n",
      " ['670319' 'TRINITY REGIONAL HOSPITAL SACHSE'\n",
      "  '4750 PRESIDENT GEORGE BUSH HIGHWAY' ... '5' '07/01/2021' '06/30/2022']\n",
      " ['670319' 'TRINITY REGIONAL HOSPITAL SACHSE'\n",
      "  '4750 PRESIDENT GEORGE BUSH HIGHWAY' ... '5' '07/01/2021' '06/30/2022']\n",
      " ['670319' 'TRINITY REGIONAL HOSPITAL SACHSE'\n",
      "  '4750 PRESIDENT GEORGE BUSH HIGHWAY' ... '5' '07/01/2021' '06/30/2022']]\n",
      "df.ndim: 2\n"
     ]
    }
   ],
   "source": [
    "df = pd.read_csv('Healthcare_Associated_Infections-Hospital.csv')\n",
    "print(\"df.shape:\", df.shape)\n",
    "print('df.index:', df.index)\n",
    "print('df.values:', df.values)\n",
    "print('df.ndim:', df.ndim)"
   ]
  },
  {
   "attachments": {},
   "cell_type": "markdown",
   "metadata": {},
   "source": [
    "# Data Cleaning"
   ]
  },
  {
   "attachments": {},
   "cell_type": "markdown",
   "metadata": {},
   "source": [
    "Create a dataframe that only includes columns I care about (i.e. Measure Name and Score)"
   ]
  },
  {
   "cell_type": "code",
   "execution_count": 58,
   "metadata": {},
   "outputs": [
    {
     "data": {
      "text/html": [
       "<div>\n",
       "<style scoped>\n",
       "    .dataframe tbody tr th:only-of-type {\n",
       "        vertical-align: middle;\n",
       "    }\n",
       "\n",
       "    .dataframe tbody tr th {\n",
       "        vertical-align: top;\n",
       "    }\n",
       "\n",
       "    .dataframe thead th {\n",
       "        text-align: right;\n",
       "    }\n",
       "</style>\n",
       "<table border=\"1\" class=\"dataframe\">\n",
       "  <thead>\n",
       "    <tr style=\"text-align: right;\">\n",
       "      <th></th>\n",
       "      <th>Measure Name</th>\n",
       "      <th>Score</th>\n",
       "    </tr>\n",
       "  </thead>\n",
       "  <tbody>\n",
       "    <tr>\n",
       "      <th>0</th>\n",
       "      <td>Central Line Associated Bloodstream Infection ...</td>\n",
       "      <td>0.404</td>\n",
       "    </tr>\n",
       "    <tr>\n",
       "      <th>1</th>\n",
       "      <td>Central Line Associated Bloodstream Infection ...</td>\n",
       "      <td>1.519</td>\n",
       "    </tr>\n",
       "    <tr>\n",
       "      <th>2</th>\n",
       "      <td>Central Line Associated Bloodstream Infection:...</td>\n",
       "      <td>10299</td>\n",
       "    </tr>\n",
       "    <tr>\n",
       "      <th>3</th>\n",
       "      <td>Central Line Associated Bloodstream Infection ...</td>\n",
       "      <td>10.874</td>\n",
       "    </tr>\n",
       "    <tr>\n",
       "      <th>4</th>\n",
       "      <td>Central Line Associated Bloodstream Infection ...</td>\n",
       "      <td>9</td>\n",
       "    </tr>\n",
       "    <tr>\n",
       "      <th>...</th>\n",
       "      <td>...</td>\n",
       "      <td>...</td>\n",
       "    </tr>\n",
       "    <tr>\n",
       "      <th>174415</th>\n",
       "      <td>Clostridium Difficile (C.Diff): Upper Confiden...</td>\n",
       "      <td>Not Available</td>\n",
       "    </tr>\n",
       "    <tr>\n",
       "      <th>174416</th>\n",
       "      <td>Clostridium Difficile (C.Diff): Patient Days</td>\n",
       "      <td>Not Available</td>\n",
       "    </tr>\n",
       "    <tr>\n",
       "      <th>174417</th>\n",
       "      <td>Clostridium Difficile (C.Diff): Predicted Cases</td>\n",
       "      <td>Not Available</td>\n",
       "    </tr>\n",
       "    <tr>\n",
       "      <th>174418</th>\n",
       "      <td>Clostridium Difficile (C.Diff): Observed Cases</td>\n",
       "      <td>Not Available</td>\n",
       "    </tr>\n",
       "    <tr>\n",
       "      <th>174419</th>\n",
       "      <td>Clostridium Difficile (C.Diff)</td>\n",
       "      <td>Not Available</td>\n",
       "    </tr>\n",
       "  </tbody>\n",
       "</table>\n",
       "<p>174420 rows × 2 columns</p>\n",
       "</div>"
      ],
      "text/plain": [
       "                                             Measure Name          Score\n",
       "0       Central Line Associated Bloodstream Infection ...          0.404\n",
       "1       Central Line Associated Bloodstream Infection ...          1.519\n",
       "2       Central Line Associated Bloodstream Infection:...          10299\n",
       "3       Central Line Associated Bloodstream Infection ...         10.874\n",
       "4       Central Line Associated Bloodstream Infection ...              9\n",
       "...                                                   ...            ...\n",
       "174415  Clostridium Difficile (C.Diff): Upper Confiden...  Not Available\n",
       "174416       Clostridium Difficile (C.Diff): Patient Days  Not Available\n",
       "174417    Clostridium Difficile (C.Diff): Predicted Cases  Not Available\n",
       "174418     Clostridium Difficile (C.Diff): Observed Cases  Not Available\n",
       "174419                     Clostridium Difficile (C.Diff)  Not Available\n",
       "\n",
       "[174420 rows x 2 columns]"
      ]
     },
     "execution_count": 58,
     "metadata": {},
     "output_type": "execute_result"
    }
   ],
   "source": [
    "df1 = df[['Measure Name', 'Score']]\n",
    "df1"
   ]
  },
  {
   "attachments": {},
   "cell_type": "markdown",
   "metadata": {},
   "source": [
    "Get an idea of which rows should be eliminated. I'm only interested in observed cases, so I will remove rows for other sorts of data stored in this dataset."
   ]
  },
  {
   "cell_type": "code",
   "execution_count": 59,
   "metadata": {},
   "outputs": [
    {
     "data": {
      "text/plain": [
       "array(['Central Line Associated Bloodstream Infection (ICU + select Wards): Lower Confidence Limit',\n",
       "       'Central Line Associated Bloodstream Infection (ICU + select Wards): Upper Confidence Limit',\n",
       "       'Central Line Associated Bloodstream Infection: Number of Device Days',\n",
       "       'Central Line Associated Bloodstream Infection (ICU + select Wards): Predicted Cases',\n",
       "       'Central Line Associated Bloodstream Infection (ICU + select Wards): Observed Cases',\n",
       "       'Central Line Associated Bloodstream Infection (ICU + select Wards)',\n",
       "       'Catheter Associated Urinary Tract Infections (ICU + select Wards): Lower Confidence Limit',\n",
       "       'Catheter Associated Urinary Tract Infections (ICU + select Wards): Upper Confidence Limit',\n",
       "       'Catheter Associated Urinary Tract Infections (ICU + select Wards): Number of Urinary Catheter Days',\n",
       "       'Catheter Associated Urinary Tract Infections (ICU + select Wards): Predicted Cases',\n",
       "       'Catheter Associated Urinary Tract Infections (ICU + select Wards): Observed Cases',\n",
       "       'Catheter Associated Urinary Tract Infections (ICU + select Wards)',\n",
       "       'SSI - Colon Surgery: Lower Confidence Limit',\n",
       "       'SSI - Colon Surgery: Upper Confidence Limit',\n",
       "       'SSI - Colon Surgery: Number of Procedures',\n",
       "       'SSI - Colon Surgery: Predicted Cases',\n",
       "       'SSI - Colon Surgery: Observed Cases', 'SSI - Colon Surgery',\n",
       "       'SSI - Abdominal Hysterectomy: Lower Confidence Limit',\n",
       "       'SSI - Abdominal Hysterectomy: Upper Confidence Limit',\n",
       "       'SSI - Abdominal Hysterectomy: Number of Procedures',\n",
       "       'SSI - Abdominal Hysterectomy: Predicted Cases',\n",
       "       'SSI - Abdominal Hysterectomy: Observed Cases',\n",
       "       'SSI - Abdominal Hysterectomy',\n",
       "       'MRSA Bacteremia: Lower Confidence Limit',\n",
       "       'MRSA Bacteremia: Upper Confidence Limit',\n",
       "       'MRSA Bacteremia: Patient Days',\n",
       "       'MRSA Bacteremia: Predicted Cases',\n",
       "       'MRSA Bacteremia: Observed Cases', 'MRSA Bacteremia',\n",
       "       'Clostridium Difficile (C.Diff): Lower Confidence Limit',\n",
       "       'Clostridium Difficile (C.Diff): Upper Confidence Limit',\n",
       "       'Clostridium Difficile (C.Diff): Patient Days',\n",
       "       'Clostridium Difficile (C.Diff): Predicted Cases',\n",
       "       'Clostridium Difficile (C.Diff): Observed Cases',\n",
       "       'Clostridium Difficile (C.Diff)'], dtype=object)"
      ]
     },
     "execution_count": 59,
     "metadata": {},
     "output_type": "execute_result"
    }
   ],
   "source": [
    "df['Measure Name'].unique()"
   ]
  },
  {
   "attachments": {},
   "cell_type": "markdown",
   "metadata": {},
   "source": [
    "Eliminating irrelevant rows"
   ]
  },
  {
   "cell_type": "code",
   "execution_count": 60,
   "metadata": {},
   "outputs": [
    {
     "data": {
      "text/plain": [
       "<bound method NDFrame.head of                                              Measure Name          Score\n",
       "4       Central Line Associated Bloodstream Infection ...              9\n",
       "10      Catheter Associated Urinary Tract Infections (...             10\n",
       "16                    SSI - Colon Surgery: Observed Cases              5\n",
       "22           SSI - Abdominal Hysterectomy: Observed Cases              1\n",
       "28                        MRSA Bacteremia: Observed Cases              9\n",
       "...                                                   ...            ...\n",
       "174394  Catheter Associated Urinary Tract Infections (...  Not Available\n",
       "174400                SSI - Colon Surgery: Observed Cases  Not Available\n",
       "174406       SSI - Abdominal Hysterectomy: Observed Cases  Not Available\n",
       "174412                    MRSA Bacteremia: Observed Cases  Not Available\n",
       "174418     Clostridium Difficile (C.Diff): Observed Cases  Not Available\n",
       "\n",
       "[29070 rows x 2 columns]>"
      ]
     },
     "execution_count": 60,
     "metadata": {},
     "output_type": "execute_result"
    }
   ],
   "source": [
    "df2 = df1[(df1['Measure Name'] != 'Central Line Associated Bloodstream Infection (ICU + select Wards): Lower Confidence Limit') &\n",
    "              (df1['Measure Name'] != 'Central Line Associated Bloodstream Infection (ICU + select Wards): Upper Confidence Limit') &\n",
    "              (df1['Measure Name'] != 'Central Line Associated Bloodstream Infection: Number of Device Days') &\n",
    "              (df1['Measure Name'] != 'Central Line Associated Bloodstream Infection (ICU + select Wards): Predicted Cases') &\n",
    "              (df1['Measure Name'] != 'Central Line Associated Bloodstream Infection (ICU + select Wards)') &\n",
    "              (df1['Measure Name'] != 'Catheter Associated Urinary Tract Infections (ICU + select Wards): Lower Confidence Limit') &\n",
    "              (df1['Measure Name'] != 'Catheter Associated Urinary Tract Infections (ICU + select Wards): Upper Confidence Limit') &\n",
    "              (df1['Measure Name'] != 'Catheter Associated Urinary Tract Infections (ICU + select Wards): Number of Urinary Catheter Days') &\n",
    "              (df1['Measure Name'] != 'Catheter Associated Urinary Tract Infections (ICU + select Wards): Predicted Cases') &\n",
    "              (df1['Measure Name'] != 'Catheter Associated Urinary Tract Infections (ICU + select Wards)') &\n",
    "              (df1['Measure Name'] != 'SSI - Colon Surgery: Lower Confidence Limit') &\n",
    "              (df1['Measure Name'] != 'SSI - Colon Surgery: Upper Confidence Limit') &\n",
    "              (df1['Measure Name'] != 'SSI - Colon Surgery: Number of Procedures') &\n",
    "              (df1['Measure Name'] != 'SSI - Colon Surgery: Predicted Cases') &\n",
    "              (df1['Measure Name'] != 'SSI - Colon Surgery') &\n",
    "              (df1['Measure Name'] != 'SSI - Abdominal Hysterectomy: Lower Confidence Limit') &\n",
    "              (df1['Measure Name'] != 'SSI - Abdominal Hysterectomy: Upper Confidence Limit') &\n",
    "              (df1['Measure Name'] != 'SSI - Abdominal Hysterectomy: Number of Procedures') &\n",
    "              (df1['Measure Name'] != 'SSI - Abdominal Hysterectomy: Predicted Cases') &\n",
    "              (df1['Measure Name'] != 'SSI - Abdominal Hysterectomy') &\n",
    "              (df1['Measure Name'] != 'MRSA Bacteremia: Lower Confidence Limit') &\n",
    "              (df1['Measure Name'] != 'MRSA Bacteremia: Upper Confidence Limit') &\n",
    "              (df1['Measure Name'] != 'MRSA Bacteremia: Patient Days') &\n",
    "              (df1['Measure Name'] != 'MRSA Bacteremia') &\n",
    "              (df1['Measure Name'] != 'MRSA Bacteremia: Predicted Cases') &\n",
    "              (df1['Measure Name'] != 'Clostridium Difficile (C.Diff): Lower Confidence Limit') &\n",
    "              (df1['Measure Name'] != 'Clostridium Difficile (C.Diff): Upper Confidence Limit') &\n",
    "              (df1['Measure Name'] != 'Clostridium Difficile (C.Diff): Patient Days') &\n",
    "              (df1['Measure Name'] != 'Clostridium Difficile (C.Diff): Predicted Cases') &\n",
    "              (df1['Measure Name'] != 'Clostridium Difficile (C.Diff)')]\n",
    "              \n",
    "df2.head"
   ]
  },
  {
   "attachments": {},
   "cell_type": "markdown",
   "metadata": {},
   "source": [
    "Writing the desired dataframe to a csv to examine if it contains only the data I am concerned with"
   ]
  },
  {
   "cell_type": "code",
   "execution_count": 61,
   "metadata": {},
   "outputs": [
    {
     "data": {
      "text/html": [
       "<div>\n",
       "<style scoped>\n",
       "    .dataframe tbody tr th:only-of-type {\n",
       "        vertical-align: middle;\n",
       "    }\n",
       "\n",
       "    .dataframe tbody tr th {\n",
       "        vertical-align: top;\n",
       "    }\n",
       "\n",
       "    .dataframe thead th {\n",
       "        text-align: right;\n",
       "    }\n",
       "</style>\n",
       "<table border=\"1\" class=\"dataframe\">\n",
       "  <thead>\n",
       "    <tr style=\"text-align: right;\">\n",
       "      <th></th>\n",
       "      <th>Unnamed: 0</th>\n",
       "      <th>Measure Name</th>\n",
       "      <th>Score</th>\n",
       "    </tr>\n",
       "  </thead>\n",
       "  <tbody>\n",
       "    <tr>\n",
       "      <th>0</th>\n",
       "      <td>4</td>\n",
       "      <td>Central Line Associated Bloodstream Infection ...</td>\n",
       "      <td>9</td>\n",
       "    </tr>\n",
       "    <tr>\n",
       "      <th>1</th>\n",
       "      <td>10</td>\n",
       "      <td>Catheter Associated Urinary Tract Infections (...</td>\n",
       "      <td>10</td>\n",
       "    </tr>\n",
       "    <tr>\n",
       "      <th>2</th>\n",
       "      <td>16</td>\n",
       "      <td>SSI - Colon Surgery: Observed Cases</td>\n",
       "      <td>5</td>\n",
       "    </tr>\n",
       "    <tr>\n",
       "      <th>3</th>\n",
       "      <td>22</td>\n",
       "      <td>SSI - Abdominal Hysterectomy: Observed Cases</td>\n",
       "      <td>1</td>\n",
       "    </tr>\n",
       "    <tr>\n",
       "      <th>4</th>\n",
       "      <td>28</td>\n",
       "      <td>MRSA Bacteremia: Observed Cases</td>\n",
       "      <td>9</td>\n",
       "    </tr>\n",
       "    <tr>\n",
       "      <th>...</th>\n",
       "      <td>...</td>\n",
       "      <td>...</td>\n",
       "      <td>...</td>\n",
       "    </tr>\n",
       "    <tr>\n",
       "      <th>21760</th>\n",
       "      <td>174286</td>\n",
       "      <td>Catheter Associated Urinary Tract Infections (...</td>\n",
       "      <td>0</td>\n",
       "    </tr>\n",
       "    <tr>\n",
       "      <th>21761</th>\n",
       "      <td>174292</td>\n",
       "      <td>SSI - Colon Surgery: Observed Cases</td>\n",
       "      <td>0</td>\n",
       "    </tr>\n",
       "    <tr>\n",
       "      <th>21762</th>\n",
       "      <td>174298</td>\n",
       "      <td>SSI - Abdominal Hysterectomy: Observed Cases</td>\n",
       "      <td>0</td>\n",
       "    </tr>\n",
       "    <tr>\n",
       "      <th>21763</th>\n",
       "      <td>174304</td>\n",
       "      <td>MRSA Bacteremia: Observed Cases</td>\n",
       "      <td>0</td>\n",
       "    </tr>\n",
       "    <tr>\n",
       "      <th>21764</th>\n",
       "      <td>174310</td>\n",
       "      <td>Clostridium Difficile (C.Diff): Observed Cases</td>\n",
       "      <td>1</td>\n",
       "    </tr>\n",
       "  </tbody>\n",
       "</table>\n",
       "<p>21765 rows × 3 columns</p>\n",
       "</div>"
      ],
      "text/plain": [
       "       Unnamed: 0                                       Measure Name  Score\n",
       "0               4  Central Line Associated Bloodstream Infection ...      9\n",
       "1              10  Catheter Associated Urinary Tract Infections (...     10\n",
       "2              16                SSI - Colon Surgery: Observed Cases      5\n",
       "3              22       SSI - Abdominal Hysterectomy: Observed Cases      1\n",
       "4              28                    MRSA Bacteremia: Observed Cases      9\n",
       "...           ...                                                ...    ...\n",
       "21760      174286  Catheter Associated Urinary Tract Infections (...      0\n",
       "21761      174292                SSI - Colon Surgery: Observed Cases      0\n",
       "21762      174298       SSI - Abdominal Hysterectomy: Observed Cases      0\n",
       "21763      174304                    MRSA Bacteremia: Observed Cases      0\n",
       "21764      174310     Clostridium Difficile (C.Diff): Observed Cases      1\n",
       "\n",
       "[21765 rows x 3 columns]"
      ]
     },
     "execution_count": 61,
     "metadata": {},
     "output_type": "execute_result"
    }
   ],
   "source": [
    "clean_df = pd.read_csv('HAI_cleandata.csv')\n",
    "clean_df"
   ]
  },
  {
   "attachments": {},
   "cell_type": "markdown",
   "metadata": {},
   "source": [
    "# Conducting Calculations"
   ]
  },
  {
   "attachments": {},
   "cell_type": "markdown",
   "metadata": {},
   "source": [
    "Getting the sample size by summing the values in the Score column"
   ]
  },
  {
   "cell_type": "code",
   "execution_count": 62,
   "metadata": {},
   "outputs": [
    {
     "name": "stdout",
     "output_type": "stream",
     "text": [
      "n = 100188\n"
     ]
    },
    {
     "data": {
      "text/plain": [
       "array(['Central Line Associated Bloodstream Infection (ICU + select Wards): Observed Cases',\n",
       "       'Catheter Associated Urinary Tract Infections (ICU + select Wards): Observed Cases',\n",
       "       'SSI - Colon Surgery: Observed Cases',\n",
       "       'SSI - Abdominal Hysterectomy: Observed Cases',\n",
       "       'MRSA Bacteremia: Observed Cases',\n",
       "       'Clostridium Difficile (C.Diff): Observed Cases'], dtype=object)"
      ]
     },
     "execution_count": 62,
     "metadata": {},
     "output_type": "execute_result"
    }
   ],
   "source": [
    "n = clean_df['Score'].sum()\n",
    "\n",
    "print('n =', n)\n",
    "\n",
    "clean_df['Measure Name'].unique()\n"
   ]
  },
  {
   "attachments": {},
   "cell_type": "markdown",
   "metadata": {},
   "source": [
    "Getting the # of successes (i.e. number of infections associated wifth MRSA) for hypothesis testing"
   ]
  },
  {
   "cell_type": "code",
   "execution_count": 63,
   "metadata": {},
   "outputs": [
    {
     "data": {
      "text/plain": [
       "11281"
      ]
     },
     "execution_count": 63,
     "metadata": {},
     "output_type": "execute_result"
    }
   ],
   "source": [
    "df3 = clean_df[(clean_df['Measure Name'] != 'Central Line Associated Bloodstream Infection (ICU + select Wards): Observed Cases') &\n",
    "               (clean_df['Measure Name'] != 'Catheter Associated Urinary Tract Infections (ICU + select Wards): Observed Cases') &\n",
    "               (clean_df['Measure Name'] != 'SSI - Colon Surgery: Observed Cases') &\n",
    "               (clean_df['Measure Name'] != 'SSI - Abdominal Hysterectomy: Observed Cases') &\n",
    "               (clean_df['Measure Name'] != 'Clostridium Difficile (C.Diff): Observed Cases')]\n",
    "\n",
    "mrsa_x = df3['Score'].sum()\n",
    "\n",
    "mrsa_x"
   ]
  },
  {
   "attachments": {},
   "cell_type": "markdown",
   "metadata": {},
   "source": [
    "The # of successes for CLABI"
   ]
  },
  {
   "cell_type": "code",
   "execution_count": 64,
   "metadata": {},
   "outputs": [
    {
     "data": {
      "text/plain": [
       "18980"
      ]
     },
     "execution_count": 64,
     "metadata": {},
     "output_type": "execute_result"
    }
   ],
   "source": [
    "df4 = clean_df[(clean_df['Measure Name'] != 'Catheter Associated Urinary Tract Infections (ICU + select Wards): Observed Cases') &\n",
    "               (clean_df['Measure Name'] != 'MRSA Bacteremia: Observed Cases') &\n",
    "               (clean_df['Measure Name'] != 'SSI - Colon Surgery: Observed Cases') &\n",
    "               (clean_df['Measure Name'] != 'SSI - Abdominal Hysterectomy: Observed Cases') &\n",
    "               (clean_df['Measure Name'] != 'Clostridium Difficile (C.Diff): Observed Cases')]\n",
    "\n",
    "clabi_x = df4['Score'].sum()\n",
    "clabi_x"
   ]
  },
  {
   "attachments": {},
   "cell_type": "markdown",
   "metadata": {},
   "source": [
    "The # successes for CAUTI"
   ]
  },
  {
   "cell_type": "code",
   "execution_count": 65,
   "metadata": {},
   "outputs": [
    {
     "data": {
      "text/plain": [
       "17543"
      ]
     },
     "execution_count": 65,
     "metadata": {},
     "output_type": "execute_result"
    }
   ],
   "source": [
    "df5 = clean_df[(clean_df['Measure Name'] != 'Central Line Associated Bloodstream Infection (ICU + select Wards): Observed Cases') &\n",
    "               (clean_df['Measure Name'] != 'MRSA Bacteremia: Observed Cases') &\n",
    "               (clean_df['Measure Name'] != 'SSI - Colon Surgery: Observed Cases') &\n",
    "               (clean_df['Measure Name'] != 'SSI - Abdominal Hysterectomy: Observed Cases') &\n",
    "               (clean_df['Measure Name'] != 'Clostridium Difficile (C.Diff): Observed Cases')]\n",
    "\n",
    "cauti_x = df5['Score'].sum()\n",
    "cauti_x"
   ]
  },
  {
   "attachments": {},
   "cell_type": "markdown",
   "metadata": {},
   "source": [
    "The # successes for SSI - colon surgery"
   ]
  },
  {
   "cell_type": "code",
   "execution_count": 66,
   "metadata": {},
   "outputs": [
    {
     "data": {
      "text/plain": [
       "7510"
      ]
     },
     "execution_count": 66,
     "metadata": {},
     "output_type": "execute_result"
    }
   ],
   "source": [
    "df6 = clean_df[(clean_df['Measure Name'] != 'Central Line Associated Bloodstream Infection (ICU + select Wards): Observed Cases') &\n",
    "               (clean_df['Measure Name'] != 'MRSA Bacteremia: Observed Cases') &\n",
    "               (clean_df['Measure Name'] != 'Catheter Associated Urinary Tract Infections (ICU + select Wards): Observed Cases') &\n",
    "               (clean_df['Measure Name'] != 'SSI - Abdominal Hysterectomy: Observed Cases') &\n",
    "               (clean_df['Measure Name'] != 'Clostridium Difficile (C.Diff): Observed Cases')]\n",
    "\n",
    "ssicolon_x = df6['Score'].sum()\n",
    "ssicolon_x "
   ]
  },
  {
   "attachments": {},
   "cell_type": "markdown",
   "metadata": {},
   "source": [
    "The # successes for SSI - abdominal hysterectomy "
   ]
  },
  {
   "cell_type": "code",
   "execution_count": 67,
   "metadata": {},
   "outputs": [
    {
     "data": {
      "text/plain": [
       "2042"
      ]
     },
     "execution_count": 67,
     "metadata": {},
     "output_type": "execute_result"
    }
   ],
   "source": [
    "df7 = clean_df[(clean_df['Measure Name'] != 'Central Line Associated Bloodstream Infection (ICU + select Wards): Observed Cases') &\n",
    "               (clean_df['Measure Name'] != 'MRSA Bacteremia: Observed Cases') &\n",
    "               (clean_df['Measure Name'] != 'Catheter Associated Urinary Tract Infections (ICU + select Wards): Observed Cases') &\n",
    "               (clean_df['Measure Name'] != 'SSI - Colon Surgery: Observed Cases') &\n",
    "               (clean_df['Measure Name'] != 'Clostridium Difficile (C.Diff): Observed Cases')]\n",
    "\n",
    "ssiab_x = df7['Score'].sum()\n",
    "ssiab_x"
   ]
  },
  {
   "attachments": {},
   "cell_type": "markdown",
   "metadata": {},
   "source": [
    "The # successes for C. difficile "
   ]
  },
  {
   "cell_type": "code",
   "execution_count": 68,
   "metadata": {},
   "outputs": [
    {
     "data": {
      "text/plain": [
       "42832"
      ]
     },
     "execution_count": 68,
     "metadata": {},
     "output_type": "execute_result"
    }
   ],
   "source": [
    "df8 = clean_df[(clean_df['Measure Name'] != 'Central Line Associated Bloodstream Infection (ICU + select Wards): Observed Cases') &\n",
    "               (clean_df['Measure Name'] != 'MRSA Bacteremia: Observed Cases') &\n",
    "               (clean_df['Measure Name'] != 'Catheter Associated Urinary Tract Infections (ICU + select Wards): Observed Cases') &\n",
    "               (clean_df['Measure Name'] != 'SSI - Colon Surgery: Observed Cases') &\n",
    "               (clean_df['Measure Name'] != 'SSI - Abdominal Hysterectomy: Observed Cases')]\n",
    "\n",
    "cdiff_x = df8['Score'].sum()\n",
    "cdiff_x"
   ]
  },
  {
   "attachments": {},
   "cell_type": "markdown",
   "metadata": {},
   "source": [
    "Calculating proportions"
   ]
  },
  {
   "cell_type": "code",
   "execution_count": 69,
   "metadata": {},
   "outputs": [
    {
     "name": "stdout",
     "output_type": "stream",
     "text": [
      "MRSA proportion: 0.11259831516748513\n",
      "CLABI proportion: 0.18944384557032778\n",
      "CAUTI proportion: 0.17510081047630455\n",
      "SSI - colon proportion: 0.07495907693536152\n",
      "SSI - Abdominal: 0.020381682437018406\n",
      "CDF - Difficile: 0.4275162694135026\n"
     ]
    }
   ],
   "source": [
    "#MRSA\n",
    "prop_mrsa = mrsa_x/n\n",
    "print('MRSA proportion:', prop_mrsa)\n",
    "\n",
    "#Central Line Associated Bloodstream Infection \n",
    "prop_clabi = clabi_x/n\n",
    "print('CLABI proportion:', prop_clabi) \n",
    "\n",
    "#Catheter Associated Urinary Tract Infections\n",
    "prop_cauti = cauti_x/n\n",
    "print('CAUTI proportion:', prop_cauti)\n",
    "\n",
    "#SSI - Colon Surgery\n",
    "prop_ssicolon = ssicolon_x/n\n",
    "print('SSI - colon proportion:', prop_ssicolon)\n",
    "\n",
    "#SSI - Abdominal Hysterectomy\n",
    "prop_ssiab = ssiab_x/n\n",
    "print('SSI - Abdominal:', prop_ssiab)\n",
    "\n",
    "#Clostridium Difficile (C.Diff)\n",
    "prop_cdiff = cdiff_x/n\n",
    "print('CDF - Difficile:', prop_cdiff)"
   ]
  },
  {
   "attachments": {},
   "cell_type": "markdown",
   "metadata": {},
   "source": [
    "# Conducting the 1-proportion z-test"
   ]
  },
  {
   "attachments": {},
   "cell_type": "markdown",
   "metadata": {},
   "source": [
    "Conducting the z test for the proportion at an α=0.05 signifigance level"
   ]
  },
  {
   "cell_type": "code",
   "execution_count": 85,
   "metadata": {},
   "outputs": [
    {
     "data": {
      "text/plain": [
       "(-135.0993676756136, 1.0)"
      ]
     },
     "execution_count": 85,
     "metadata": {},
     "output_type": "execute_result"
    }
   ],
   "source": [
    "h0 = 0.31\n",
    "\n",
    "proportions_ztest(count = mrsa_x, nobs = n, value = h0, alternative = 'larger', prop_var = h0)\n",
    "\n",
    "#**NOTE** - all I know is that to make proportions_ztest work like it should (as in give you the same results as a TI-84 or CrunchIT would) you must set the prop_var \n",
    "#parameter to equal the value of the null hypothesis \n"
   ]
  },
  {
   "attachments": {},
   "cell_type": "markdown",
   "metadata": {},
   "source": [
    "# Conclusions"
   ]
  },
  {
   "attachments": {},
   "cell_type": "markdown",
   "metadata": {},
   "source": [
    "z-statistic = -135.099<br> \n",
    "P-value = 1\n",
    "α=0.05\n",
    "\n",
    "P = 1.0 > α=0.05\n",
    "so the null hypothesis is not rejected\n",
    "\n",
    "There is not sufficient statistical evidence to conclude that the proportion of nosocomial infections that are caused by MRSA is greater than 0.31. \n"
   ]
  },
  {
   "attachments": {},
   "cell_type": "markdown",
   "metadata": {},
   "source": [
    "# Data Visualization "
   ]
  },
  {
   "cell_type": "code",
   "execution_count": 89,
   "metadata": {},
   "outputs": [
    {
     "data": {
      "image/png": "[encoded data removed]",
      "text/plain": [
       "<Figure size 640x480 with 1 Axes>"
      ]
     },
     "metadata": {},
     "output_type": "display_data"
    }
   ],
   "source": [
    "props = np.array([prop_mrsa, prop_clabi, prop_cauti, prop_cdiff, prop_ssicolon, prop_ssiab])\n",
    "labl = ['MRSA Bacteremia', 'Central Line Associated Bloodstream Infection', 'Catheter Associated Urinary Tract Infections', 'Clostridium Difficile Bacteremia', 'SSI - Colon Surgery', 'SSI - Abdominal Hysterectomy']\n",
    "\n",
    "plt.pie(props, labels = labl)\n",
    "plt.show()"
   ]
  }
 ],
 "metadata": {
  "kernelspec": {
   "display_name": "base",
   "language": "python",
   "name": "python3"
  },
  "language_info": {
   "codemirror_mode": {
    "name": "ipython",
    "version": 3
   },
   "file_extension": ".py",
   "mimetype": "text/x-python",
   "name": "python",
   "nbconvert_exporter": "python",
   "pygments_lexer": "ipython3",
   "version": "3.9.12"
  },
  "orig_nbformat": 4
 },
 "nbformat": 4,
 "nbformat_minor": 2
}
